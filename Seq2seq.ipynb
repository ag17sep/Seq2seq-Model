{
 "cells": [
  {
   "cell_type": "markdown",
   "metadata": {
    "colab_type": "text",
    "id": "XJHp1qlKF_Mv"
   },
   "source": [
    "# Learn to calculate with seq2seq model\n",
    "\n",
    "Seq2Seq models are very popular these days because they achieve great results in Machine Translation, Text Summarization, Conversational Modeling and more.\n",
    "\n",
    "Using sequence-to-sequence modeling I build a calculator for evaluating arithmetic expressions, by taking an equation as an input to the neural network and producing an answer as it's output.\n",
    "\n",
    "The resulting solution for this problem will be based on state-of-the-art approaches for sequence-to-sequence learning. \n",
    "\n",
    "### Libraries\n",
    "\n",
    "For this task you will need the following libraries:\n",
    " - [TensorFlow](https://www.tensorflow.org) — an open-source software library for Machine Intelligence.\n",
    " - [scikit-learn](http://scikit-learn.org/stable/index.html) — a tool for data mining and data analysis.\n"
   ]
  },
  {
   "cell_type": "markdown",
   "metadata": {
    "colab_type": "text",
    "id": "r4zrZaOaF_Mz"
   },
   "source": [
    "### Data\n",
    "\n",
    "One benefit of this task is that I didn't need to download any data — I can generate it on my own! We will use two operators (addition and subtraction) and work with positive integer numbers in some range. Here are examples of correct inputs and outputs:\n",
    "\n",
    "    Input: '1+2'\n",
    "    Output: '3'\n",
    "    \n",
    "    Input: '0-99'\n",
    "    Output: '-99'\n",
    "\n",
    "*Note, that there are no spaces between operators and operands.*\n"
   ]
  },
  {
   "cell_type": "code",
   "execution_count": 2,
   "metadata": {
    "colab": {},
    "colab_type": "code",
    "id": "r-fDqyabF_M2"
   },
   "outputs": [],
   "source": [
    "import random\n",
    "import numpy as np"
   ]
  },
  {
   "cell_type": "code",
   "execution_count": 3,
   "metadata": {
    "colab": {},
    "colab_type": "code",
    "id": "QI4omE3KF_M9"
   },
   "outputs": [],
   "source": [
    "def generate_equations(allowed_operators, dataset_size, min_value, max_value):\n",
    "    \"\"\"Generates pairs of equations and solutions to them.\n",
    "    \n",
    "       Each equation has a form of two integers with an operator in between.\n",
    "       Each solution is an integer with the result of the operaion.\n",
    "    \n",
    "        allowed_operators: list of strings, allowed operators.\n",
    "        dataset_size: an integer, number of equations to be generated.\n",
    "        min_value: an integer, min value of each operand.\n",
    "        max_value: an integer, max value of each operand.\n",
    "\n",
    "        result: a list of tuples of strings (equation, solution).\n",
    "    \"\"\"\n",
    "    sample = []\n",
    "    for _ in range(dataset_size):\n",
    "        n1 = random.randint(min_value,max_value)\n",
    "        n2 = random.randint(min_value,max_value)\n",
    "        operator = allowed_operators[random.randint(0,len(allowed_operators)-1)]\n",
    "        if operator == '-':\n",
    "          out = n1-n2\n",
    "        elif operator == '+':\n",
    "          out = n1+n2\n",
    "         \n",
    "        sample.append((str(n1)+str(operator)+str(n2), str(out)))\n",
    "    return sample"
   ]
  },
  {
   "cell_type": "markdown",
   "metadata": {
    "colab_type": "text",
    "id": "fD0y3e0wF_NB"
   },
   "source": [
    "To check the correctness of the implementation, use *test_generate_equations* function:"
   ]
  },
  {
   "cell_type": "code",
   "execution_count": 4,
   "metadata": {
    "colab": {},
    "colab_type": "code",
    "id": "StfRB51zF_NC"
   },
   "outputs": [],
   "source": [
    "def test_generate_equations():\n",
    "    allowed_operators = ['+', '-']\n",
    "    dataset_size = 10\n",
    "    for (input_, output_) in generate_equations(allowed_operators, dataset_size, 0, 100):\n",
    "        if not (type(input_) is str and type(output_) is str):\n",
    "            return \"Both parts should be strings.\"\n",
    "        if eval(input_) != int(output_):\n",
    "            return \"The (equation: {!r}, solution: {!r}) pair is incorrect.\".format(input_, output_)\n",
    "    return \"Tests passed.\""
   ]
  },
  {
   "cell_type": "code",
   "execution_count": 5,
   "metadata": {
    "colab": {
     "base_uri": "https://localhost:8080/",
     "height": 34
    },
    "colab_type": "code",
    "id": "9wJzQ1tRF_NF",
    "outputId": "d0d804d2-a1ce-4746-8d94-51ed2035ca25"
   },
   "outputs": [
    {
     "name": "stdout",
     "output_type": "stream",
     "text": [
      "Tests passed.\n"
     ]
    }
   ],
   "source": [
    "print(test_generate_equations())"
   ]
  },
  {
   "cell_type": "markdown",
   "metadata": {
    "colab_type": "text",
    "id": "5dkVH1-rF_NJ"
   },
   "source": [
    "Finally, we are ready to generate the train and test data for the neural network:"
   ]
  },
  {
   "cell_type": "code",
   "execution_count": 6,
   "metadata": {
    "colab": {},
    "colab_type": "code",
    "id": "FaFM9XhWF_NK"
   },
   "outputs": [],
   "source": [
    "from sklearn.model_selection import train_test_split"
   ]
  },
  {
   "cell_type": "code",
   "execution_count": 7,
   "metadata": {
    "colab": {},
    "colab_type": "code",
    "id": "f6xRw8XxF_NR"
   },
   "outputs": [],
   "source": [
    "allowed_operators = ['+', '-']\n",
    "dataset_size = 100000\n",
    "data = generate_equations(allowed_operators, dataset_size, min_value=0, max_value=9999)\n",
    "\n",
    "train_set, test_set = train_test_split(data, test_size=0.2, random_state=42)"
   ]
  },
  {
   "cell_type": "markdown",
   "metadata": {
    "colab_type": "text",
    "id": "rhld_JLoF_NU"
   },
   "source": [
    "## Prepare data for the neural network\n",
    "\n",
    "The next stage of data preparation is creating mappings of the characters to their indices in some vocabulary. Since in our task we already know which symbols will appear in the inputs and outputs, generating the vocabulary is a simple step.\n",
    "\n",
    "#### How to create dictionaries for other task\n",
    "\n",
    "First of all, you need to understand what is the basic unit of the sequence in your task. In my case, we operate on symbols and the basic unit is a symbol. The number of symbols is small, so we don't need to think about filtering/normalization steps. However, in other tasks, the basic unit is often a word, and in this case the mapping would be *word $\\to$ integer*. The number of words might be huge, so it would be reasonable to filter them, for example, by frequency and leave only the frequent ones. Other strategies that your should consider are: data normalization (lowercasing, tokenization, how to consider punctuation marks), separate vocabulary for input and for output (e.g. for machine translation), some specifics of the task."
   ]
  },
  {
   "cell_type": "code",
   "execution_count": 8,
   "metadata": {
    "colab": {},
    "colab_type": "code",
    "id": "yjlcqf2qF_NX"
   },
   "outputs": [],
   "source": [
    "word2id = {symbol:i for i, symbol in enumerate('#^$+-1234567890')}\n",
    "id2word = {i:symbol for symbol, i in word2id.items()}"
   ]
  },
  {
   "cell_type": "markdown",
   "metadata": {
    "colab_type": "text",
    "id": "ROYyWgeaF_Nb"
   },
   "source": [
    "#### Special symbols"
   ]
  },
  {
   "cell_type": "code",
   "execution_count": 9,
   "metadata": {
    "colab": {},
    "colab_type": "code",
    "id": "GnVNCaVVF_Nd"
   },
   "outputs": [],
   "source": [
    "start_symbol = '^'\n",
    "end_symbol = '$'\n",
    "padding_symbol = '#'"
   ]
  },
  {
   "cell_type": "markdown",
   "metadata": {
    "colab_type": "text",
    "id": "r05Z2pekF_Ng"
   },
   "source": [
    "We have to add 3 special symbols: '^', '\\$' and '#':\n",
    "- '^' symbol will be passed to the network to indicate the beginning of the decoding procedure. \n",
    "- '\\$' symbol will be used to indicate the *end of a string*, both for input and output sequences. \n",
    "- '#' symbol will be used as a *padding* character to make lengths of all strings equal within one training batch."
   ]
  },
  {
   "cell_type": "markdown",
   "metadata": {
    "colab_type": "text",
    "id": "NSYoxXQ2F_Nh"
   },
   "source": [
    "#### Padding"
   ]
  },
  {
   "cell_type": "markdown",
   "metadata": {
    "colab_type": "text",
    "id": "9DtcypQEF_Ni"
   },
   "source": [
    "Now as the vocabulary is ready, we need to be able to convert a sentence to a list of vocabulary word indices and back. At the same time, let's care about padding. We are going to preprocess each sequence from the input (and output ground truth) in such a way that:\n",
    "- it has a predefined length *padded_len*\n",
    "- it is probably cut off or padded with the *padding symbol* '#'\n",
    "- it *always* ends with the *end symbol* '$'\n",
    "\n",
    "We will treat the original characters of the sequence **and the end symbol** as the valid part of the input. We will store *the actual length* of the sequence, which includes the end symbol, but does not include the padding symbols. "
   ]
  },
  {
   "cell_type": "markdown",
   "metadata": {
    "colab_type": "text",
    "id": "2Li_AreJF_Nk"
   },
   "source": [
    " The function *sentence_to_ids* that does the described job. "
   ]
  },
  {
   "cell_type": "code",
   "execution_count": 10,
   "metadata": {
    "colab": {},
    "colab_type": "code",
    "id": "sgrLQwB8F_Nl"
   },
   "outputs": [],
   "source": [
    "def sentence_to_ids(sentence, word2id, padded_len):\n",
    "    \"\"\" Converts a sequence of symbols to a padded sequence of their ids.\n",
    "    \n",
    "      sentence: a string, input/output sequence of symbols.\n",
    "      word2id: a dict, a mapping from original symbols to ids.\n",
    "      padded_len: an integer, a desirable length of the sequence.\n",
    "\n",
    "      result: a tuple of (a list of ids, an actual length of sentence).\n",
    "    \"\"\"\n",
    "    \n",
    "    sent_ids = [word2id[symbol] for symbol in sentence] \n",
    "    sent_len = len(sent_ids[:padded_len-1])+1 \n",
    "    sent_ids = sent_ids[:padded_len-1]+[word2id['$']]+[word2id['#']]*(padded_len-len(sent_ids)-1)\n",
    "    return (sent_ids,sent_len)"
   ]
  },
  {
   "cell_type": "markdown",
   "metadata": {
    "colab_type": "text",
    "id": "HkoQp43VF_Nz"
   },
   "source": [
    "We also need to be able to get back from indices to symbols:"
   ]
  },
  {
   "cell_type": "code",
   "execution_count": 13,
   "metadata": {
    "colab": {},
    "colab_type": "code",
    "id": "unGxEzsLF_N0"
   },
   "outputs": [],
   "source": [
    "def ids_to_sentence(ids, id2word):\n",
    "    \"\"\" Converts a sequence of ids to a sequence of symbols.\n",
    "    \n",
    "          ids: a list, indices for the padded sequence.\n",
    "          id2word:  a dict, a mapping from ids to original symbols.\n",
    "\n",
    "          result: a list of symbols.\n",
    "    \"\"\"\n",
    " \n",
    "    return [id2word[i] for i in ids] "
   ]
  },
  {
   "cell_type": "markdown",
   "metadata": {
    "colab_type": "text",
    "id": "YjhIIJjiF_N2"
   },
   "source": [
    "#### Generating batches"
   ]
  },
  {
   "cell_type": "markdown",
   "metadata": {
    "colab_type": "text",
    "id": "P_oVuljwF_N3"
   },
   "source": [
    "The final step of data preparation is a function that transforms a batch of sentences to a list of lists of indices. "
   ]
  },
  {
   "cell_type": "code",
   "execution_count": 14,
   "metadata": {
    "colab": {},
    "colab_type": "code",
    "id": "m_ya-uxMF_N4"
   },
   "outputs": [],
   "source": [
    "def batch_to_ids(sentences, word2id, max_len):\n",
    "    \"\"\"Prepares batches of indices. \n",
    "    \n",
    "       Sequences are padded to match the longest sequence in the batch,\n",
    "       if it's longer than max_len, then max_len is used instead.\n",
    "\n",
    "        sentences: a list of strings, original sequences.\n",
    "        word2id: a dict, a mapping from original symbols to ids.\n",
    "        max_len: an integer, max len of sequences allowed.\n",
    "\n",
    "        result: a list of lists of ids, a list of actual lengths.\n",
    "    \"\"\"\n",
    "    \n",
    "    max_len_in_batch = min(max(len(s) for s in sentences) + 1, max_len)\n",
    "    batch_ids, batch_ids_len = [], []\n",
    "    for sentence in sentences:\n",
    "        ids, ids_len = sentence_to_ids(sentence, word2id, max_len_in_batch)\n",
    "        batch_ids.append(ids)\n",
    "        batch_ids_len.append(ids_len)\n",
    "    return batch_ids, batch_ids_len"
   ]
  },
  {
   "cell_type": "markdown",
   "metadata": {
    "colab_type": "text",
    "id": "5OqcTwhXF_N8"
   },
   "source": [
    "The function *generate_batches* will help to generate batches with defined size from given samples."
   ]
  },
  {
   "cell_type": "code",
   "execution_count": 15,
   "metadata": {
    "colab": {},
    "colab_type": "code",
    "id": "Y-LItWuwF_N8"
   },
   "outputs": [],
   "source": [
    "def generate_batches(samples, batch_size=64):\n",
    "    X, Y = [], []\n",
    "    for i, (x, y) in enumerate(samples, 1):\n",
    "        X.append(x)\n",
    "        Y.append(y)\n",
    "        if i % batch_size == 0:\n",
    "            yield X, Y\n",
    "            X, Y = [], []\n",
    "    if X and Y:\n",
    "        yield X, Y"
   ]
  },
  {
   "cell_type": "markdown",
   "metadata": {
    "colab_type": "text",
    "id": "iU1XzciPF_N_"
   },
   "source": [
    "To illustrate the result of the implemented functions, run the following cell:"
   ]
  },
  {
   "cell_type": "markdown",
   "metadata": {
    "colab_type": "text",
    "id": "xqvlyGspF_OC"
   },
   "source": [
    "## Encoder-Decoder architecture\n",
    "\n",
    "Encoder-Decoder is a successful architecture for Seq2Seq tasks with different lengths of input and output sequences. The main idea is to use two recurrent neural networks, where the first neural network *encodes* the input sequence into a real-valued vector and then the second neural network *decodes* this vector into the output sequence. While building the neural network, we will specify some particular characteristics of this architecture."
   ]
  },
  {
   "cell_type": "code",
   "execution_count": 17,
   "metadata": {
    "colab": {},
    "colab_type": "code",
    "id": "vIDZbD6wF_OD"
   },
   "outputs": [],
   "source": [
    "import tensorflow as tf"
   ]
  },
  {
   "cell_type": "markdown",
   "metadata": {
    "colab_type": "text",
    "id": "1wVMbd-6F_OH"
   },
   "source": [
    "Let us use TensorFlow building blocks to specify the network architecture."
   ]
  },
  {
   "cell_type": "code",
   "execution_count": 18,
   "metadata": {
    "colab": {},
    "colab_type": "code",
    "id": "BecdCuyaF_OI"
   },
   "outputs": [],
   "source": [
    "class Seq2SeqModel(object):\n",
    "    pass"
   ]
  },
  {
   "cell_type": "markdown",
   "metadata": {
    "colab_type": "text",
    "id": "JQ9DFgcTF_ON"
   },
   "source": [
    "First, we need to create [placeholders](https://www.tensorflow.org/api_guides/python/io_ops#Placeholders) to specify what data we are going to feed into the network during the execution time. For this task we will need:\n",
    " - *input_batch* — sequences of sentences (the shape will equal to [batch_size, max_sequence_len_in_batch]);\n",
    " - *input_batch_lengths* — lengths of not padded sequences (the shape equals to [batch_size]);\n",
    " - *ground_truth* — sequences of groundtruth (the shape will equal to [batch_size, max_sequence_len_in_batch]);\n",
    " - *ground_truth_lengths* — lengths of not padded groundtruth sequences (the shape equals to [batch_size]);\n",
    " - *dropout_ph* — dropout keep probability; this placeholder has a predifined value 1;\n",
    " - *learning_rate_ph* — learning rate."
   ]
  },
  {
   "cell_type": "code",
   "execution_count": 19,
   "metadata": {
    "colab": {},
    "colab_type": "code",
    "id": "pxq-TjHJF_OO"
   },
   "outputs": [],
   "source": [
    "def declare_placeholders(self):\n",
    "    \"\"\"Specifies placeholders for the model.\"\"\"\n",
    "    \n",
    "    # Placeholders for input and its actual lengths.\n",
    "    self.input_batch = tf.placeholder(shape=(None, None), dtype=tf.int32, name='input_batch')\n",
    "    self.input_batch_lengths = tf.placeholder(shape=(None, ), dtype=tf.int32, name='input_batch_lengths')\n",
    "    \n",
    "    # Placeholders for groundtruth and its actual lengths.\n",
    "    self.ground_truth = tf.placeholder(shape=(None,None),dtype=tf.int32,name='ground_truth')\n",
    "    self.ground_truth_lengths = tf.placeholder(shape=(None, ), dtype=tf.int32, name='ground_truth_lengths')\n",
    "        \n",
    "    self.dropout_ph = tf.placeholder_with_default(tf.cast(1.0, tf.float32), shape=[])\n",
    "    self.learning_rate_ph = tf.placeholder(shape=[],dtype=tf.float32,name='learning_rate_ph') "
   ]
  },
  {
   "cell_type": "code",
   "execution_count": 20,
   "metadata": {
    "colab": {},
    "colab_type": "code",
    "id": "UZBCU7IGF_OS"
   },
   "outputs": [],
   "source": [
    "Seq2SeqModel.__declare_placeholders = classmethod(declare_placeholders)"
   ]
  },
  {
   "cell_type": "markdown",
   "metadata": {
    "colab_type": "text",
    "id": "eXiHDrAJF_OU"
   },
   "source": [
    "Now, let us specify the layers of the neural network. First, we need to prepare an embedding matrix. Since we use the same vocabulary for input and output, we need only one such matrix. For tasks with different vocabularies there would be multiple embedding layers.\n",
    "- Create embeddings matrix with [tf.Variable](https://www.tensorflow.org/api_docs/python/tf/Variable). Specify its name, type (tf.float32), and initialize with random values.\n",
    "- Perform [embeddings lookup](https://www.tensorflow.org/api_docs/python/tf/nn/embedding_lookup) for a given input batch."
   ]
  },
  {
   "cell_type": "code",
   "execution_count": 21,
   "metadata": {
    "colab": {},
    "colab_type": "code",
    "id": "kTpvVvxDF_OV"
   },
   "outputs": [],
   "source": [
    "def create_embeddings(self, vocab_size, embeddings_size):\n",
    "    \"\"\"Specifies embeddings layer and embeds an input batch.\"\"\"\n",
    "     \n",
    "    random_initializer = tf.random_uniform((vocab_size, embeddings_size), -1.0, 1.0)\n",
    "    self.embeddings = tf.Variable(initial_value=random_initializer,dtype=tf.float32) \n",
    "    \n",
    "    # Perform embeddings lookup for self.input_batch. \n",
    "    self.input_batch_embedded = tf.nn.embedding_lookup(self.embeddings,self.input_batch) "
   ]
  },
  {
   "cell_type": "code",
   "execution_count": 22,
   "metadata": {
    "colab": {},
    "colab_type": "code",
    "id": "Jty1xKZ0F_OZ"
   },
   "outputs": [],
   "source": [
    "Seq2SeqModel.__create_embeddings = classmethod(create_embeddings)"
   ]
  },
  {
   "cell_type": "markdown",
   "metadata": {
    "colab_type": "text",
    "id": "lVxDpKyhF_Od"
   },
   "source": [
    "#### Encoder\n",
    "\n",
    "The first RNN of the current architecture is called an *encoder* and serves for encoding an input sequence to a real-valued vector. Input of this RNN is an embedded input batch. Since sentences in the same batch could have different actual lengths, we also provide input lengths to avoid unnecessary computations. The final encoder state will be passed to the second RNN (decoder), which we will create soon. \n",
    "\n",
    "- TensorFlow provides a number of [RNN cells](https://www.tensorflow.org/api_guides/python/contrib.rnn#Core_RNN_Cells_for_use_with_TensorFlow_s_core_RNN_methods) ready for use. I used [GRU cell](https://www.tensorflow.org/api_docs/python/tf/contrib/rnn/GRUCell)\n",
    "- I wrapped the GRU cell with [DropoutWrapper](https://www.tensorflow.org/api_docs/python/tf/contrib/rnn/DropoutWrapper). Dropout is an important regularization technique for neural networks.\n",
    "- Combine the defined encoder cells with [Dynamic RNN](https://www.tensorflow.org/api_docs/python/tf/nn/dynamic_rnn). Use the embedded input batches and their lengths here."
   ]
  },
  {
   "cell_type": "code",
   "execution_count": 23,
   "metadata": {
    "colab": {},
    "colab_type": "code",
    "id": "pSIbtqAQF_Oe"
   },
   "outputs": [],
   "source": [
    "def build_encoder(self, hidden_size):\n",
    "    \"\"\"Specifies encoder architecture and computes its output.\"\"\"\n",
    "    \n",
    "    # Create GRUCell with dropout.\n",
    "    encoder_cell = tf.nn.rnn_cell.DropoutWrapper(tf.nn.rnn_cell.GRUCell(hidden_size),input_keep_prob=self.dropout_ph)\n",
    "    \n",
    "    # Create RNN with the predefined cell.\n",
    "    _, self.final_encoder_state = tf.nn.dynamic_rnn(encoder_cell, self.input_batch_embedded, sequence_length=self.input_batch_lengths, dtype=tf.float32)"
   ]
  },
  {
   "cell_type": "code",
   "execution_count": 24,
   "metadata": {
    "colab": {},
    "colab_type": "code",
    "id": "5qrRaxomF_Og"
   },
   "outputs": [],
   "source": [
    "Seq2SeqModel.__build_encoder = classmethod(build_encoder)"
   ]
  },
  {
   "cell_type": "markdown",
   "metadata": {
    "colab_type": "text",
    "id": "RdIM88VcF_Ok"
   },
   "source": [
    "#### Decoder\n",
    "\n",
    "The second RNN is called a *decoder* and serves for generating the output sequence. In the simple seq2seq arcitecture, the input sequence is provided to the decoder only as the final state of the encoder. Obviously, it is a bottleneck and [Attention techniques](https://www.tensorflow.org/tutorials/seq2seq#background_on_the_attention_mechanism) can help to overcome it. So far, we do not need them to make our calculator work, but this would be a necessary ingredient for more advanced tasks. \n",
    "\n",
    "During training, decoder also uses information about the true output. It is feeded in as input symbol by symbol. However, during the prediction stage (which is called *inference* in this architecture), the decoder can only use its own generated output from the previous step to feed it in at the next step. Because of this difference (*training* vs *inference*), we will create two distinct instances, which will serve for the described scenarios.\n",
    "\n",
    "The picture below illustrates the point. It also shows our work with the special characters, e.g. look how the start symbol `^` is used. The transparent parts are ignored. In decoder, it is masked out in the loss computation. In encoder, the green state is considered as final and passed to the decoder. "
   ]
  },
  {
   "cell_type": "markdown",
   "metadata": {
    "colab_type": "text",
    "id": "YC_hv18oF_Ol"
   },
   "source": [
    "<img src=\"https://github.com/hse-aml/natural-language-processing/blob/master/week4/encoder-decoder-pic.png?raw=1\" style=\"width: 500px;\">"
   ]
  },
  {
   "cell_type": "markdown",
   "metadata": {
    "colab_type": "text",
    "id": "Xm597UUCF_Ol"
   },
   "source": [
    "Now, it's time to implement the decoder:\n",
    " - First, I created two [helpers](https://www.tensorflow.org/api_guides/python/contrib.seq2seq#Dynamic_Decoding). These classes help to determine the behaviour of the decoder. During the training time, we will use [TrainingHelper](https://www.tensorflow.org/api_docs/python/tf/contrib/seq2seq/TrainingHelper). For the inference we recommend to use [GreedyEmbeddingHelper](https://www.tensorflow.org/api_docs/python/tf/contrib/seq2seq/GreedyEmbeddingHelper).\n",
    " - To share all parameters during training and inference, we use one scope and set the flag 'reuse' to True at inference time. You might be interested to know more about how [variable scopes](https://www.tensorflow.org/programmers_guide/variables) work in TF. \n",
    " - To create the decoder itself, I used [BasicDecoder](https://www.tensorflow.org/api_docs/python/tf/contrib/seq2seq/BasicDecoder) class.  The GRU cell turns hidden states into logits,so we will need a projection layer. One of the simple solutions is using [OutputProjectionWrapper](https://www.tensorflow.org/api_docs/python/tf/contrib/rnn/OutputProjectionWrapper).\n",
    " - For getting the predictions, it is convinient to use [dynamic_decode](https://www.tensorflow.org/api_docs/python/tf/contrib/seq2seq/dynamic_decode). This function uses the provided decoder to perform decoding."
   ]
  },
  {
   "cell_type": "code",
   "execution_count": 25,
   "metadata": {
    "colab": {},
    "colab_type": "code",
    "id": "Yg0vis3eF_Om"
   },
   "outputs": [],
   "source": [
    "def build_decoder(self, hidden_size, vocab_size, max_iter, start_symbol_id, end_symbol_id):\n",
    "    \"\"\"Specifies decoder architecture and computes the output.\n",
    "    \n",
    "        Uses different helpers:\n",
    "          - for train: feeding ground truth\n",
    "          - for inference: feeding generated output\n",
    "\n",
    "        As a result, self.train_outputs and self.infer_outputs are created. \n",
    "        Each of them contains two fields:\n",
    "          rnn_output (predicted logits)\n",
    "          sample_id (predictions).\n",
    "\n",
    "    \"\"\"\n",
    "    \n",
    "    # Use start symbols as the decoder inputs at the first time step.\n",
    "    batch_size = tf.shape(self.input_batch)[0]\n",
    "    start_tokens = tf.fill([batch_size], start_symbol_id)\n",
    "    ground_truth_as_input = tf.concat([tf.expand_dims(start_tokens, 1), self.ground_truth], 1)\n",
    "    \n",
    "    # Use the embedding layer defined before to lookup embedings for ground_truth_as_input. \n",
    "    self.ground_truth_embedded =tf.nn.embedding_lookup(self.embeddings,ground_truth_as_input) \n",
    "     \n",
    "    # Create TrainingHelper for the train stage.\n",
    "    train_helper = tf.contrib.seq2seq.TrainingHelper(self.ground_truth_embedded, \n",
    "                                                     self.ground_truth_lengths)\n",
    "    \n",
    "    # Create GreedyEmbeddingHelper for the inference stage.\n",
    "    # You should provide the embedding layer, start_tokens and index of the end symbol.\n",
    "    infer_helper = tf.contrib.seq2seq.GreedyEmbeddingHelper(self.embeddings,start_tokens=word2id['^']*tf.ones([batch_size],dtype=tf.int32),end_token=word2id['$'])\n",
    "    \n",
    "  \n",
    "    def decode(helper, scope, reuse=None):\n",
    "        \"\"\"Creates decoder and return the results of the decoding with a given helper.\"\"\"\n",
    "        \n",
    "        with tf.variable_scope(scope, reuse=reuse):\n",
    "            # Create GRUCell with dropout. Do not forget to set the reuse flag properly.\n",
    "            decoder_cell = tf.contrib.rnn.DropoutWrapper(tf.contrib.rnn.GRUCell(hidden_size, reuse=reuse),\n",
    "                                                         input_keep_prob=self.dropout_ph)\n",
    "            \n",
    "            # Create a projection wrapper.\n",
    "            decoder_cell = tf.contrib.rnn.OutputProjectionWrapper(decoder_cell, vocab_size, reuse=reuse)\n",
    "            \n",
    "            # Create BasicDecoder, pass the defined cell, a helper, and initial state.\n",
    "            # The initial state should be equal to the final state of the encoder!\n",
    "            decoder = tf.contrib.seq2seq.BasicDecoder(decoder_cell,helper=helper, initial_state=self.final_encoder_state)\n",
    "            \n",
    "            # The first returning argument of dynamic_decode contains two fields:\n",
    "            #   rnn_output (predicted logits)\n",
    "            #   sample_id (predictions)\n",
    "            outputs, _, _ = tf.contrib.seq2seq.dynamic_decode(decoder=decoder, maximum_iterations=max_iter, \n",
    "                                                              output_time_major=False, impute_finished=True)\n",
    "\n",
    "            return outputs\n",
    "        \n",
    "    self.train_outputs = decode(train_helper, 'decode')\n",
    "    self.infer_outputs = decode(infer_helper, 'decode', reuse=True)"
   ]
  },
  {
   "cell_type": "code",
   "execution_count": 26,
   "metadata": {
    "colab": {},
    "colab_type": "code",
    "id": "zT_bBLB_F_Oq"
   },
   "outputs": [],
   "source": [
    "Seq2SeqModel.__build_decoder = classmethod(build_decoder)"
   ]
  },
  {
   "cell_type": "markdown",
   "metadata": {
    "colab_type": "text",
    "id": "kI0ValtsF_Os"
   },
   "source": [
    "In this task we will use [sequence_loss](https://www.tensorflow.org/api_docs/python/tf/contrib/seq2seq/sequence_loss), which is a weighted cross-entropy loss for a sequence of logits. Also note, that we do not want to take into account loss terms coming from padding symbols, so we will mask them out using weights.  "
   ]
  },
  {
   "cell_type": "code",
   "execution_count": 27,
   "metadata": {
    "colab": {},
    "colab_type": "code",
    "id": "OaWQyHEdF_Ot"
   },
   "outputs": [],
   "source": [
    "def compute_loss(self):\n",
    "    \"\"\"Computes sequence loss (masked cross-entopy loss with logits).\"\"\"\n",
    "    \n",
    "    weights = tf.cast(tf.sequence_mask(self.ground_truth_lengths), dtype=tf.float32)\n",
    "    \n",
    "    self.loss = tf.contrib.seq2seq.sequence_loss(self.train_outputs.rnn_output,self.ground_truth,weights=weights)"
   ]
  },
  {
   "cell_type": "code",
   "execution_count": 28,
   "metadata": {
    "colab": {},
    "colab_type": "code",
    "id": "GpN1vJAZF_Ox"
   },
   "outputs": [],
   "source": [
    "Seq2SeqModel.__compute_loss = classmethod(compute_loss)"
   ]
  },
  {
   "cell_type": "markdown",
   "metadata": {
    "colab_type": "text",
    "id": "InazXeoAF_O0"
   },
   "source": [
    "The last thing to specify is the optimization of the defined loss. \n",
    "I used [optimize_loss](https://www.tensorflow.org/api_docs/python/tf/contrib/layers/optimize_loss) with Adam optimizer and a learning rate from the corresponding placeholder. "
   ]
  },
  {
   "cell_type": "code",
   "execution_count": 29,
   "metadata": {
    "colab": {},
    "colab_type": "code",
    "id": "_3ISO8TKF_O1"
   },
   "outputs": [],
   "source": [
    "def perform_optimization(self):\n",
    "    \"\"\"Specifies train_op that optimizes self.loss.\"\"\"\n",
    "    \n",
    "    self.train_op = tf.contrib.layers.optimize_loss(self.loss,optimizer=\"Adam\",learning_rate=self.learning_rate_ph,global_step=tf.train.get_global_step(),clip_gradients=1.0)"
   ]
  },
  {
   "cell_type": "code",
   "execution_count": 30,
   "metadata": {
    "colab": {},
    "colab_type": "code",
    "id": "ogHa1xAwF_O4"
   },
   "outputs": [],
   "source": [
    "Seq2SeqModel.__perform_optimization = classmethod(perform_optimization)"
   ]
  },
  {
   "cell_type": "markdown",
   "metadata": {
    "colab_type": "text",
    "id": "uYRxgJf0F_O6"
   },
   "source": [
    "Right now, we haven't dealt with any real data yet, so what you have written is just recipies on how the network should function.\n",
    "Now we will put them to the constructor of our Seq2SeqModel class to use it in the next section. "
   ]
  },
  {
   "cell_type": "code",
   "execution_count": 31,
   "metadata": {
    "colab": {},
    "colab_type": "code",
    "id": "V7teqiuYF_O7"
   },
   "outputs": [],
   "source": [
    "def init_model(self, vocab_size, embeddings_size, hidden_size, \n",
    "               max_iter, start_symbol_id, end_symbol_id, padding_symbol_id):\n",
    "    \n",
    "    self.__declare_placeholders()\n",
    "    self.__create_embeddings(vocab_size, embeddings_size)\n",
    "    self.__build_encoder(hidden_size)\n",
    "    self.__build_decoder(hidden_size, vocab_size, max_iter, start_symbol_id, end_symbol_id)\n",
    "    \n",
    "    # Compute loss and back-propagate.\n",
    "    self.__compute_loss()\n",
    "    self.__perform_optimization()\n",
    "    \n",
    "    # Get predictions for evaluation.\n",
    "    self.train_predictions = self.train_outputs.sample_id\n",
    "    self.infer_predictions = self.infer_outputs.sample_id"
   ]
  },
  {
   "cell_type": "code",
   "execution_count": 32,
   "metadata": {
    "colab": {},
    "colab_type": "code",
    "id": "2HiBQ5auF_O9"
   },
   "outputs": [],
   "source": [
    "Seq2SeqModel.__init__ = classmethod(init_model)"
   ]
  },
  {
   "cell_type": "markdown",
   "metadata": {
    "colab_type": "text",
    "id": "iAFxptodF_PB"
   },
   "source": [
    "## Train the network and predict output\n",
    "\n",
    "[Session.run](https://www.tensorflow.org/api_docs/python/tf/Session#run) is a point which initiates computations in the graph that we have defined. To train the network, we need to compute *self.train_op*. To predict output, we just need to compute *self.infer_predictions*. In any case, we need to feed actual data through the placeholders that we defined above. "
   ]
  },
  {
   "cell_type": "code",
   "execution_count": 33,
   "metadata": {
    "colab": {},
    "colab_type": "code",
    "id": "WanEWNZXF_PD"
   },
   "outputs": [],
   "source": [
    "def train_on_batch(self, session, X, X_seq_len, Y, Y_seq_len, learning_rate, dropout_keep_probability):\n",
    "    feed_dict = {\n",
    "            self.input_batch: X,\n",
    "            self.input_batch_lengths: X_seq_len,\n",
    "            self.ground_truth: Y,\n",
    "            self.ground_truth_lengths: Y_seq_len,\n",
    "            self.learning_rate_ph: learning_rate,\n",
    "            self.dropout_ph: dropout_keep_probability\n",
    "        }\n",
    "    pred, loss, _ = session.run([\n",
    "            self.train_predictions,\n",
    "            self.loss,\n",
    "            self.train_op], feed_dict=feed_dict)\n",
    "    return pred, loss"
   ]
  },
  {
   "cell_type": "code",
   "execution_count": 34,
   "metadata": {
    "colab": {},
    "colab_type": "code",
    "id": "9ebm_96oF_PG"
   },
   "outputs": [],
   "source": [
    "Seq2SeqModel.train_on_batch = classmethod(train_on_batch)"
   ]
  },
  {
   "cell_type": "markdown",
   "metadata": {
    "colab_type": "text",
    "id": "JVrWxkMAF_PJ"
   },
   "source": [
    "We implemented two prediction functions: *predict_for_batch* and *predict_for_batch_with_loss*. The first one allows only to predict output for some input sequence, while the second one could compute loss because we provide also ground truth values. Both these functions might be useful since the first one could be used for predicting only, and the second one is helpful for validating results on not-training data during the training."
   ]
  },
  {
   "cell_type": "code",
   "execution_count": 35,
   "metadata": {
    "colab": {},
    "colab_type": "code",
    "id": "kRMqbFj7F_PK"
   },
   "outputs": [],
   "source": [
    "def predict_for_batch(self, session, X, X_seq_len):\n",
    "    feed_dict = {self.input_batch: X, self.input_batch_lengths: X_seq_len}\n",
    "    pred = session.run([\n",
    "            self.infer_predictions\n",
    "        ], feed_dict=feed_dict)[0]\n",
    "    return pred\n",
    "\n",
    "def predict_for_batch_with_loss(self, session, X, X_seq_len, Y, Y_seq_len):\n",
    "    feed_dict = {self.input_batch: X,self.input_batch_lengths: X_seq_len,self.ground_truth: Y,self.ground_truth_lengths: Y_seq_len}\n",
    "    pred, loss = session.run([\n",
    "            self.infer_predictions,\n",
    "            self.loss,\n",
    "        ], feed_dict=feed_dict)\n",
    "    return pred, loss"
   ]
  },
  {
   "cell_type": "code",
   "execution_count": 36,
   "metadata": {
    "colab": {},
    "colab_type": "code",
    "id": "1XJDHTcMF_PO"
   },
   "outputs": [],
   "source": [
    "Seq2SeqModel.predict_for_batch = classmethod(predict_for_batch)\n",
    "Seq2SeqModel.predict_for_batch_with_loss = classmethod(predict_for_batch_with_loss)"
   ]
  },
  {
   "cell_type": "markdown",
   "metadata": {
    "colab_type": "text",
    "id": "Ay3f2Xg8F_PS"
   },
   "source": [
    "## Run your experiment\n",
    "\n",
    "*Seq2SeqModel* model accepts the following parameters:\n",
    " - *vocab_size* — number of tokens;\n",
    " - *embeddings_size* — dimension of embeddings, recommended value: 20;\n",
    " - *max_iter* — maximum number of steps in decoder, recommended value: 7;\n",
    " - *hidden_size* — size of hidden layers for RNN, recommended value: 512;\n",
    " - *start_symbol_id* — an index of the start token (`^`).\n",
    " - *end_symbol_id* — an index of the end token (`$`).\n",
    " - *padding_symbol_id* — an index of the padding token (`#`).\n"
   ]
  },
  {
   "cell_type": "code",
   "execution_count": 48,
   "metadata": {
    "colab": {
     "base_uri": "https://localhost:8080/",
     "height": 424
    },
    "colab_type": "code",
    "id": "Cx9GUB3yF_PT",
    "outputId": "6bfca89e-e51f-4b3f-cc14-339f16e58aa4"
   },
   "outputs": [],
   "source": [
    "tf.reset_default_graph()\n",
    "\n",
    "model = Seq2SeqModel(vocab_size=len(word2id),embeddings_size=20,max_iter=7,hidden_size=512,start_symbol_id=word2id[\"^\"],end_symbol_id=word2id[\"$\"],padding_symbol_id=word2id[\"#\"])\n",
    "\n",
    "batch_size = 128\n",
    "n_epochs = 15\n",
    "learning_rate = 0.001 \n",
    "dropout_keep_probability = 0.5 \n",
    "max_len = 20\n",
    "\n",
    "n_step = int(len(train_set) / batch_size)"
   ]
  },
  {
   "cell_type": "markdown",
   "metadata": {
    "colab_type": "text",
    "id": "B-bT7JB6F_PX"
   },
   "source": [
    "Finally, we are ready to run the training! A good indicator that everything works fine is decreasing loss during the training. "
   ]
  },
  {
   "cell_type": "code",
   "execution_count": 49,
   "metadata": {
    "colab": {
     "base_uri": "https://localhost:8080/",
     "height": 3255
    },
    "colab_type": "code",
    "id": "ch7meAjUF_PY",
    "outputId": "9719a459-53c6-46df-92b6-bb983d7d40c9",
    "scrolled": true
   },
   "outputs": [
    {
     "name": "stdout",
     "output_type": "stream",
     "text": [
      "Start training... \n",
      "\n",
      "Train: epoch 1\n",
      "Epoch: [1/15], step: [1/625], loss: 2.702013\n",
      "Epoch: [1/15], step: [201/625], loss: 1.776000\n",
      "Epoch: [1/15], step: [401/625], loss: 1.689954\n",
      "Epoch: [1/15], step: [601/625], loss: 1.614839\n",
      "Test: epoch 1 loss: 1.5960435\n",
      "X: 7964-9484$\n",
      "Y: -1520$\n",
      "O: -166$#\n",
      "\n",
      "X: 642-2631$#\n",
      "Y: -1989$\n",
      "O: -1028$\n",
      "\n",
      "X: 8347+2737$\n",
      "Y: 11084$\n",
      "O: 11666$\n",
      "\n",
      "Train: epoch 2\n",
      "Epoch: [2/15], step: [1/625], loss: 1.586686\n",
      "Epoch: [2/15], step: [201/625], loss: 1.502360\n",
      "Epoch: [2/15], step: [401/625], loss: 1.461991\n",
      "Epoch: [2/15], step: [601/625], loss: 1.410731\n",
      "Test: epoch 2 loss: 1.4104985\n",
      "X: 4381+2162$\n",
      "Y: 6543$#\n",
      "O: 6115$#\n",
      "\n",
      "X: 9958-8018$\n",
      "Y: 1940$#\n",
      "O: 1860$#\n",
      "\n",
      "X: 6593+4367$\n",
      "Y: 10960$\n",
      "O: 10000$\n",
      "\n",
      "Train: epoch 3\n",
      "Epoch: [3/15], step: [1/625], loss: 1.431729\n",
      "Epoch: [3/15], step: [201/625], loss: 1.411585\n",
      "Epoch: [3/15], step: [401/625], loss: 1.377677\n",
      "Epoch: [3/15], step: [601/625], loss: 1.371659\n",
      "Test: epoch 3 loss: 1.3366739\n",
      "X: 7434-503$#\n",
      "Y: 6931$#\n",
      "O: 7055$#\n",
      "\n",
      "X: 7722+9324$\n",
      "Y: 17046$\n",
      "O: 16554$\n",
      "\n",
      "X: 6297-9389$\n",
      "Y: -3092$\n",
      "O: -2355$\n",
      "\n",
      "Train: epoch 4\n",
      "Epoch: [4/15], step: [1/625], loss: 1.338997\n",
      "Epoch: [4/15], step: [201/625], loss: 1.293959\n",
      "Epoch: [4/15], step: [401/625], loss: 1.316924\n",
      "Epoch: [4/15], step: [601/625], loss: 1.282303\n",
      "Test: epoch 4 loss: 1.277426\n",
      "X: 1090+9958$\n",
      "Y: 11048$\n",
      "O: 11113$\n",
      "\n",
      "X: 2525+2818$\n",
      "Y: 5343$#\n",
      "O: 5955$#\n",
      "\n",
      "X: 2390-1835$\n",
      "Y: 555$##\n",
      "O: 1035$#\n",
      "\n",
      "Train: epoch 5\n",
      "Epoch: [5/15], step: [1/625], loss: 1.298931\n",
      "Epoch: [5/15], step: [201/625], loss: 1.283147\n",
      "Epoch: [5/15], step: [401/625], loss: 1.277626\n",
      "Epoch: [5/15], step: [601/625], loss: 1.233390\n",
      "Test: epoch 5 loss: 1.2628239\n",
      "X: 2611-8968$\n",
      "Y: -6357$\n",
      "O: -6194$\n",
      "\n",
      "X: 4865-302$#\n",
      "Y: 4563$#\n",
      "O: 4438$#\n",
      "\n",
      "X: 582+8627$#\n",
      "Y: 9209$#\n",
      "O: 9133$#\n",
      "\n",
      "Train: epoch 6\n",
      "Epoch: [6/15], step: [1/625], loss: 1.269179\n",
      "Epoch: [6/15], step: [201/625], loss: 1.192216\n",
      "Epoch: [6/15], step: [401/625], loss: 1.166738\n",
      "Epoch: [6/15], step: [601/625], loss: 1.067189\n",
      "Test: epoch 6 loss: 1.0784012\n",
      "X: 5418-669$#\n",
      "Y: 4749$#\n",
      "O: 4952$#\n",
      "\n",
      "X: 4825+8832$\n",
      "Y: 13657$\n",
      "O: 13668$\n",
      "\n",
      "X: 9081-6795$\n",
      "Y: 2286$#\n",
      "O: 2388$#\n",
      "\n",
      "Train: epoch 7\n",
      "Epoch: [7/15], step: [1/625], loss: 1.095135\n",
      "Epoch: [7/15], step: [201/625], loss: 1.040541\n",
      "Epoch: [7/15], step: [401/625], loss: 0.996879\n",
      "Epoch: [7/15], step: [601/625], loss: 0.981450\n",
      "Test: epoch 7 loss: 1.0084103\n",
      "X: 9948+3963$\n",
      "Y: 13911$\n",
      "O: 13892$\n",
      "\n",
      "X: 144+2036$#\n",
      "Y: 2180$#\n",
      "O: 2322$#\n",
      "\n",
      "X: 6165-9936$\n",
      "Y: -3771$\n",
      "O: -3722$\n",
      "\n",
      "Train: epoch 8\n",
      "Epoch: [8/15], step: [1/625], loss: 1.010395\n",
      "Epoch: [8/15], step: [201/625], loss: 0.951108\n",
      "Epoch: [8/15], step: [401/625], loss: 0.969095\n",
      "Epoch: [8/15], step: [601/625], loss: 0.948077\n",
      "Test: epoch 8 loss: 0.9208705\n",
      "X: 8152-5869$\n",
      "Y: 2283$#\n",
      "O: 2260$#\n",
      "\n",
      "X: 8484+385$#\n",
      "Y: 8869$#\n",
      "O: 8870$#\n",
      "\n",
      "X: 8931-7131$\n",
      "Y: 1800$#\n",
      "O: 1814$#\n",
      "\n",
      "Train: epoch 9\n",
      "Epoch: [9/15], step: [1/625], loss: 0.930866\n",
      "Epoch: [9/15], step: [201/625], loss: 0.932768\n",
      "Epoch: [9/15], step: [401/625], loss: 0.924939\n",
      "Epoch: [9/15], step: [601/625], loss: 0.907032\n",
      "Test: epoch 9 loss: 0.9151142\n",
      "X: 6893-2872$\n",
      "Y: 4021$#\n",
      "O: 3992$#\n",
      "\n",
      "X: 7608-6734$\n",
      "Y: 874$##\n",
      "O: 882$##\n",
      "\n",
      "X: 3945-8584$\n",
      "Y: -4639$\n",
      "O: -4600$\n",
      "\n",
      "Train: epoch 10\n",
      "Epoch: [10/15], step: [1/625], loss: 0.904038\n",
      "Epoch: [10/15], step: [201/625], loss: 0.920967\n",
      "Epoch: [10/15], step: [401/625], loss: 0.865541\n",
      "Epoch: [10/15], step: [601/625], loss: 0.920964\n",
      "Test: epoch 10 loss: 0.8884364\n",
      "X: 6770-7606$\n",
      "Y: -836$#\n",
      "O: -822$#\n",
      "\n",
      "X: 480+1037$#\n",
      "Y: 1517$#\n",
      "O: 1601$#\n",
      "\n",
      "X: 4627+9112$\n",
      "Y: 13739$\n",
      "O: 13732$\n",
      "\n",
      "Train: epoch 11\n",
      "Epoch: [11/15], step: [1/625], loss: 0.869775\n",
      "Epoch: [11/15], step: [201/625], loss: 0.839003\n",
      "Epoch: [11/15], step: [401/625], loss: 0.883689\n",
      "Epoch: [11/15], step: [601/625], loss: 0.852243\n",
      "Test: epoch 11 loss: 0.85055083\n",
      "X: 1331+7360$\n",
      "Y: 8691$#\n",
      "O: 8711$#\n",
      "\n",
      "X: 5204-3888$\n",
      "Y: 1316$#\n",
      "O: 1341$#\n",
      "\n",
      "X: 6641-7640$\n",
      "Y: -999$#\n",
      "O: -1018$\n",
      "\n",
      "Train: epoch 12\n",
      "Epoch: [12/15], step: [1/625], loss: 0.867109\n",
      "Epoch: [12/15], step: [201/625], loss: 0.859285\n",
      "Epoch: [12/15], step: [401/625], loss: 0.845906\n",
      "Epoch: [12/15], step: [601/625], loss: 0.853694\n",
      "Test: epoch 12 loss: 0.8455168\n",
      "X: 4274-9295$\n",
      "Y: -5021$\n",
      "O: -5003$\n",
      "\n",
      "X: 4037-8943$\n",
      "Y: -4906$\n",
      "O: -4902$\n",
      "\n",
      "X: 1054+5304$\n",
      "Y: 6358$#\n",
      "O: 6367$#\n",
      "\n",
      "Train: epoch 13\n",
      "Epoch: [13/15], step: [1/625], loss: 0.829732\n",
      "Epoch: [13/15], step: [201/625], loss: 0.808785\n",
      "Epoch: [13/15], step: [401/625], loss: 0.855868\n",
      "Epoch: [13/15], step: [601/625], loss: 0.798381\n",
      "Test: epoch 13 loss: 0.88137186\n",
      "X: 9783-6753$\n",
      "Y: 3030$#\n",
      "O: 3039$#\n",
      "\n",
      "X: 327-9620$#\n",
      "Y: -9293$\n",
      "O: -9291$\n",
      "\n",
      "X: 9626-7788$\n",
      "Y: 1838$#\n",
      "O: 1859$#\n",
      "\n",
      "Train: epoch 14\n",
      "Epoch: [14/15], step: [1/625], loss: 0.845634\n",
      "Epoch: [14/15], step: [201/625], loss: 0.807500\n",
      "Epoch: [14/15], step: [401/625], loss: 0.796761\n",
      "Epoch: [14/15], step: [601/625], loss: 0.806130\n",
      "Test: epoch 14 loss: 0.8065582\n",
      "X: 2805-1981$\n",
      "Y: 824$##\n",
      "O: 856$##\n",
      "\n",
      "X: 3544-7567$\n",
      "Y: -4023$\n",
      "O: -4029$\n",
      "\n",
      "X: 5062+7328$\n",
      "Y: 12390$\n",
      "O: 12393$\n",
      "\n",
      "Train: epoch 15\n",
      "Epoch: [15/15], step: [1/625], loss: 0.770092\n",
      "Epoch: [15/15], step: [201/625], loss: 0.771139\n",
      "Epoch: [15/15], step: [401/625], loss: 0.771319\n",
      "Epoch: [15/15], step: [601/625], loss: 0.726723\n",
      "Test: epoch 15 loss: 0.7513976\n",
      "X: 2103-6032$\n",
      "Y: -3929$\n",
      "O: -3923$\n",
      "\n",
      "X: 3372+3738$\n",
      "Y: 7110$#\n",
      "O: 7107$#\n",
      "\n",
      "X: 6182-3527$\n",
      "Y: 2655$#\n",
      "O: 2654$#\n",
      "\n",
      "\n",
      "...training finished.\n"
     ]
    }
   ],
   "source": [
    "session = tf.Session()\n",
    "session.run(tf.global_variables_initializer())\n",
    "            \n",
    "invalid_number_prediction_counts = []\n",
    "all_model_predictions = []\n",
    "all_ground_truth = []\n",
    "\n",
    "print('Start training... \\n')\n",
    "for epoch in range(n_epochs):  \n",
    "    random.shuffle(train_set)\n",
    "    random.shuffle(test_set)\n",
    "    \n",
    "    print('Train: epoch', epoch + 1)\n",
    "    for n_iter, (X_batch, Y_batch) in enumerate(generate_batches(train_set, batch_size=batch_size)):\n",
    "        # prepare the data (X_batch and Y_batch) for training\n",
    "        # using function batch_to_ids\n",
    "        X, X_len = batch_to_ids(X_batch, word2id, max_len=max_len)\n",
    "        Y, Y_len = batch_to_ids(Y_batch, word2id, max_len=max_len)\n",
    "        predictions, loss = model.predict_for_batch_with_loss(\n",
    "            session=session, X=X, X_seq_len=X_len, Y=Y,\n",
    "            Y_seq_len=Y_len)\n",
    "        model.train_on_batch(session, X, X_len, Y, Y_len,\n",
    "                             learning_rate, dropout_keep_probability)######### YOUR CODE HERE #############\n",
    "        \n",
    "        if n_iter % 200 == 0:\n",
    "            print(\"Epoch: [%d/%d], step: [%d/%d], loss: %f\" % (epoch + 1, n_epochs, n_iter + 1, n_step, loss))\n",
    "                \n",
    "    X_sent, Y_sent = next(generate_batches(test_set, batch_size=batch_size))\n",
    "    # prepare test data (X_sent and Y_sent) for predicting \n",
    "    # quality and computing value of the loss function\n",
    "    # using function batch_to_ids\n",
    "    X_sent, Y_sent = next(generate_batches(test_set, batch_size=batch_size))\n",
    "\n",
    "    X, X_len = batch_to_ids(X_sent, word2id, max_len=max_len)\n",
    "\n",
    "    Y, Y_len = batch_to_ids(Y_sent, word2id, max_len=max_len)\n",
    "    \n",
    "    predictions, loss = model.predict_for_batch_with_loss(\n",
    "        session=session, X=X, X_seq_len=X_len, Y=Y,\n",
    "        Y_seq_len=Y_len)\n",
    "    print('Test: epoch', epoch + 1, 'loss:', loss,)\n",
    "    for x, y, p  in list(zip(X, Y, predictions))[:3]:\n",
    "        print('X:',''.join(ids_to_sentence(x, id2word)))\n",
    "        print('Y:',''.join(ids_to_sentence(y, id2word)))\n",
    "        print('O:',''.join(ids_to_sentence(p, id2word)))\n",
    "        print('')\n",
    "\n",
    "    model_predictions = []\n",
    "    ground_truth = []\n",
    "    invalid_number_prediction_count = 0\n",
    "    # For the whole test set calculate ground-truth values (as integer numbers)\n",
    "    # and prediction values (also as integers) to calculate metrics.\n",
    "    # If generated by model number is not correct (e.g. '1-1'), \n",
    "    # increase invalid_number_prediction_count and don't append this and corresponding\n",
    "    # ground-truth value to the arrays.\n",
    "    for X_batch, Y_batch in generate_batches(test_set, batch_size=batch_size):\n",
    "        ground_truth = list(map(int, Y_batch))\n",
    "        X, X_len = batch_to_ids(X_batch, word2id, max_len=max_len)\n",
    "        Y, Y_len = batch_to_ids(Y_batch, word2id, max_len=max_len)\n",
    "\n",
    "        predictions = model.predict_for_batch(session, X, X_len)\n",
    "        model_predictions = np.array(\n",
    "            [\"\".join(ids_to_sentence(i, id2word)) for i in predictions])\n",
    "\n",
    "        valid_predictions = np.array([\"-\" not in ids_to_sentence(i[1:],id2word) for i in predictions])\n",
    "\n",
    "        invalid_number_prediction_count = (~valid_predictions).sum()\n",
    "        model_predictions = model_predictions[valid_predictions]\n",
    "        model_predictions = [i.replace(\"$\", \"\").replace(\n",
    "            \"^\", \"\").replace(\"#\",\"\") for i in model_predictions]\n",
    "        model_predictions = list(map(int, model_predictions))\n",
    "        ground_truth = np.array(ground_truth)[valid_predictions]\n",
    "    \n",
    "    all_model_predictions.append(model_predictions)\n",
    "    all_ground_truth.append(ground_truth)\n",
    "    invalid_number_prediction_counts.append(invalid_number_prediction_count)\n",
    "            \n",
    "print('\\n...training finished.')"
   ]
  },
  {
   "cell_type": "markdown",
   "metadata": {
    "colab_type": "text",
    "id": "TIdYwdYlF_Pa"
   },
   "source": [
    "## Evaluate results\n",
    "\n",
    "Because our task is simple and the output is straight-forward, we will use [MAE](https://en.wikipedia.org/wiki/Mean_absolute_error) metric to evaluate the trained model during the epochs. Compute the value of the metric for the output from each epoch."
   ]
  },
  {
   "cell_type": "code",
   "execution_count": 50,
   "metadata": {
    "colab": {},
    "colab_type": "code",
    "id": "9Qtagry6F_Pb"
   },
   "outputs": [],
   "source": [
    "from sklearn.metrics import mean_absolute_error"
   ]
  },
  {
   "cell_type": "code",
   "execution_count": 51,
   "metadata": {
    "colab": {
     "base_uri": "https://localhost:8080/",
     "height": 193
    },
    "colab_type": "code",
    "id": "VpnkCXFEF_Pd",
    "outputId": "1554e3fe-0df7-4e09-d1b4-33116e6c4ec6"
   },
   "outputs": [
    {
     "name": "stdout",
     "output_type": "stream",
     "text": [
      "Epoch: 1, MAE: 1174.125000, Invalid numbers: 0\n",
      "Epoch: 2, MAE: 389.156250, Invalid numbers: 0\n",
      "Epoch: 3, MAE: 226.031250, Invalid numbers: 0\n",
      "Epoch: 4, MAE: 172.375000, Invalid numbers: 0\n",
      "Epoch: 5, MAE: 113.093750, Invalid numbers: 0\n",
      "Epoch: 6, MAE: 53.250000, Invalid numbers: 0\n",
      "Epoch: 7, MAE: 124.562500, Invalid numbers: 0\n",
      "Epoch: 8, MAE: 22.437500, Invalid numbers: 0\n",
      "Epoch: 9, MAE: 25.625000, Invalid numbers: 0\n",
      "Epoch: 10, MAE: 20.625000, Invalid numbers: 0\n",
      "Epoch: 11, MAE: 20.156250, Invalid numbers: 0\n",
      "Epoch: 12, MAE: 19.750000, Invalid numbers: 0\n",
      "Epoch: 13, MAE: 15.281250, Invalid numbers: 0\n",
      "Epoch: 14, MAE: 36.312500, Invalid numbers: 0\n",
      "Epoch: 15, MAE: 20.312500, Invalid numbers: 0\n"
     ]
    }
   ],
   "source": [
    "for i, (gts, predictions, invalid_number_prediction_count) in enumerate(zip(all_ground_truth,\n",
    "                                                                            all_model_predictions,\n",
    "                                                                            invalid_number_prediction_counts), 1):\n",
    "    mae = mean_absolute_error(gts,predictions)\n",
    "    print(\"Epoch: %i, MAE: %f, Invalid numbers: %i\" % (i, mae, invalid_number_prediction_count))"
   ]
  },
  {
   "cell_type": "code",
   "execution_count": 0,
   "metadata": {
    "colab": {},
    "colab_type": "code",
    "id": "W1Mkzudl36ce"
   },
   "outputs": [],
   "source": []
  }
 ],
 "metadata": {
  "accelerator": "GPU",
  "colab": {
   "collapsed_sections": [],
   "name": "Copy of week4-seq2seq.ipynb",
   "provenance": [],
   "version": "0.3.2"
  },
  "kernelspec": {
   "display_name": "Python 3",
   "language": "python",
   "name": "python3"
  },
  "language_info": {
   "codemirror_mode": {
    "name": "ipython",
    "version": 3
   },
   "file_extension": ".py",
   "mimetype": "text/x-python",
   "name": "python",
   "nbconvert_exporter": "python",
   "pygments_lexer": "ipython3",
   "version": "3.5.6"
  }
 },
 "nbformat": 4,
 "nbformat_minor": 1
}
